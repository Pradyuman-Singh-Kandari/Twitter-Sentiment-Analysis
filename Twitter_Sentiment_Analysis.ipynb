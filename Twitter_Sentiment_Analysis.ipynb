{
  "nbformat": 4,
  "nbformat_minor": 0,
  "metadata": {
    "colab": {
      "provenance": [],
      "authorship_tag": "ABX9TyNmGaeWxhFvca54nsMPxGdI",
      "include_colab_link": true
    },
    "kernelspec": {
      "name": "python3",
      "display_name": "Python 3"
    },
    "language_info": {
      "name": "python"
    }
  },
  "cells": [
    {
      "cell_type": "markdown",
      "metadata": {
        "id": "view-in-github",
        "colab_type": "text"
      },
      "source": [
        "<a href=\"https://colab.research.google.com/github/Pradyuman-Singh-Kandari/Twitter-Sentiment-Analysis/blob/main/Twitter_Sentiment_Analysis.ipynb\" target=\"_parent\"><img src=\"https://colab.research.google.com/assets/colab-badge.svg\" alt=\"Open In Colab\"/></a>"
      ]
    },
    {
      "cell_type": "markdown",
      "source": [
        "## **Import Libraries**\n"
      ],
      "metadata": {
        "id": "MnsAHWBAYL3U"
      }
    },
    {
      "cell_type": "code",
      "source": [
        "import tweepy \n",
        "from textblob import TextBlob \n",
        "from wordcloud import WordCloud\n",
        "import pandas as pd\n",
        "import numpy as np\n",
        "import re\n",
        "import matplotlib.pyplot as plt\n",
        "# giving graph a style  \n",
        "plt.style.use('fivethirtyeight')"
      ],
      "metadata": {
        "id": "Iub1yqjyYO9h"
      },
      "execution_count": null,
      "outputs": []
    },
    {
      "cell_type": "markdown",
      "source": [
        "## **API credentials**\n",
        "\n",
        "\n",
        "\n"
      ],
      "metadata": {
        "id": "8fcwEbEeZVE6"
      }
    },
    {
      "cell_type": "code",
      "source": [
        "consumerKey = '*************************'\n",
        "consumerSecret = '*********************************************'\n",
        "accessToken = '********************************************'\n",
        "accessTokenSecret = '***********'"
      ],
      "metadata": {
        "id": "0WLl3ek4ZZ9V"
      },
      "execution_count": null,
      "outputs": []
    },
    {
      "cell_type": "markdown",
      "source": [
        "## **Authentication**"
      ],
      "metadata": {
        "id": "emc-KPz4eE-T"
      }
    },
    {
      "cell_type": "code",
      "source": [
        "authenticate = tweepy.OAuthHandler(consumerKey, consumerSecret)\n",
        "authenticate.set_access_token(accessToken, accessTokenSecret)\n",
        "api = tweepy.API(authenticate, wait_on_rate_limit = True)"
      ],
      "metadata": {
        "id": "am4uHBXJeKFY"
      },
      "execution_count": null,
      "outputs": []
    },
    {
      "cell_type": "markdown",
      "source": [
        "## **Extract Tweets**"
      ],
      "metadata": {
        "id": "In7G35mXezUr"
      }
    },
    {
      "cell_type": "code",
      "source": [
        "posts = api.user_timeline(screen_name=\"Extra_2_AB\", count = 100, lang = \"en\", tweet_mode = \"extended\")\n",
        "print(\"Show the 5 recent tweets: \\n\")\n",
        "i = 1\n",
        "for tweet in posts[0:5]:\n",
        "  print(str(i) + ')' + tweet.full_text + '\\n')\n",
        "  i = i + 1"
      ],
      "metadata": {
        "colab": {
          "base_uri": "https://localhost:8080/"
        },
        "id": "NitLoo4Re4kI",
        "outputId": "8c1805e0-5140-4bf7-b12c-9cfc761f8658"
      },
      "execution_count": null,
      "outputs": [
        {
          "output_type": "stream",
          "name": "stdout",
          "text": [
            "Show the 5 recent tweets: \n",
            "\n",
            "1)RT @HindenburgRes: They were essentially fresh out of school, hardly in a position to scrutinize and hold to account the financials of some…\n",
            "\n",
            "2)RT @HindenburgRes: The audit partners at Shah Dhandharia who respectively signed off on Adani Enterprises and Adani Gas’ annual audits were…\n",
            "\n",
            "3)RT @TheWeekLive: FROM THE MAGAZINE | @surajyengde’s extraordinary trajectory is worthy of a full length film, starting with his life in a s…\n",
            "\n",
            "4)Yaar tu kya chutiya admi hai bhai, opportunist and centrist like you can never reclaim the idea of republic https://t.co/sPv9kkmIyA\n",
            "\n",
            "5)RT @motherboard: Twitter is censoring links to a BBC documentary that examined Prime Minister Modi's role in violent 2002 riots that saw ov…\n",
            "\n"
          ]
        }
      ]
    },
    {
      "cell_type": "markdown",
      "source": [
        "## **Creating DataFrame**"
      ],
      "metadata": {
        "id": "TDttCa-hf7-i"
      }
    },
    {
      "cell_type": "code",
      "source": [
        "df = pd.DataFrame( [tweet.full_text for tweet in posts] , columns = ['Tweets'])\n",
        "df.head()"
      ],
      "metadata": {
        "colab": {
          "base_uri": "https://localhost:8080/",
          "height": 206
        },
        "id": "EKItoRqcgBzY",
        "outputId": "af3d65ed-8648-45b6-faa0-5cfb45671a21"
      },
      "execution_count": null,
      "outputs": [
        {
          "output_type": "execute_result",
          "data": {
            "text/plain": [
              "                                              Tweets\n",
              "0  RT @HindenburgRes: They were essentially fresh...\n",
              "1  RT @HindenburgRes: The audit partners at Shah ...\n",
              "2  RT @TheWeekLive: FROM THE MAGAZINE | @surajyen...\n",
              "3  Yaar tu kya chutiya admi hai bhai, opportunist...\n",
              "4  RT @motherboard: Twitter is censoring links to..."
            ],
            "text/html": [
              "\n",
              "  <div id=\"df-f6e2326e-6c53-46e0-8c00-19007a0ea3c5\">\n",
              "    <div class=\"colab-df-container\">\n",
              "      <div>\n",
              "<style scoped>\n",
              "    .dataframe tbody tr th:only-of-type {\n",
              "        vertical-align: middle;\n",
              "    }\n",
              "\n",
              "    .dataframe tbody tr th {\n",
              "        vertical-align: top;\n",
              "    }\n",
              "\n",
              "    .dataframe thead th {\n",
              "        text-align: right;\n",
              "    }\n",
              "</style>\n",
              "<table border=\"1\" class=\"dataframe\">\n",
              "  <thead>\n",
              "    <tr style=\"text-align: right;\">\n",
              "      <th></th>\n",
              "      <th>Tweets</th>\n",
              "    </tr>\n",
              "  </thead>\n",
              "  <tbody>\n",
              "    <tr>\n",
              "      <th>0</th>\n",
              "      <td>RT @HindenburgRes: They were essentially fresh...</td>\n",
              "    </tr>\n",
              "    <tr>\n",
              "      <th>1</th>\n",
              "      <td>RT @HindenburgRes: The audit partners at Shah ...</td>\n",
              "    </tr>\n",
              "    <tr>\n",
              "      <th>2</th>\n",
              "      <td>RT @TheWeekLive: FROM THE MAGAZINE | @surajyen...</td>\n",
              "    </tr>\n",
              "    <tr>\n",
              "      <th>3</th>\n",
              "      <td>Yaar tu kya chutiya admi hai bhai, opportunist...</td>\n",
              "    </tr>\n",
              "    <tr>\n",
              "      <th>4</th>\n",
              "      <td>RT @motherboard: Twitter is censoring links to...</td>\n",
              "    </tr>\n",
              "  </tbody>\n",
              "</table>\n",
              "</div>\n",
              "      <button class=\"colab-df-convert\" onclick=\"convertToInteractive('df-f6e2326e-6c53-46e0-8c00-19007a0ea3c5')\"\n",
              "              title=\"Convert this dataframe to an interactive table.\"\n",
              "              style=\"display:none;\">\n",
              "        \n",
              "  <svg xmlns=\"http://www.w3.org/2000/svg\" height=\"24px\"viewBox=\"0 0 24 24\"\n",
              "       width=\"24px\">\n",
              "    <path d=\"M0 0h24v24H0V0z\" fill=\"none\"/>\n",
              "    <path d=\"M18.56 5.44l.94 2.06.94-2.06 2.06-.94-2.06-.94-.94-2.06-.94 2.06-2.06.94zm-11 1L8.5 8.5l.94-2.06 2.06-.94-2.06-.94L8.5 2.5l-.94 2.06-2.06.94zm10 10l.94 2.06.94-2.06 2.06-.94-2.06-.94-.94-2.06-.94 2.06-2.06.94z\"/><path d=\"M17.41 7.96l-1.37-1.37c-.4-.4-.92-.59-1.43-.59-.52 0-1.04.2-1.43.59L10.3 9.45l-7.72 7.72c-.78.78-.78 2.05 0 2.83L4 21.41c.39.39.9.59 1.41.59.51 0 1.02-.2 1.41-.59l7.78-7.78 2.81-2.81c.8-.78.8-2.07 0-2.86zM5.41 20L4 18.59l7.72-7.72 1.47 1.35L5.41 20z\"/>\n",
              "  </svg>\n",
              "      </button>\n",
              "      \n",
              "  <style>\n",
              "    .colab-df-container {\n",
              "      display:flex;\n",
              "      flex-wrap:wrap;\n",
              "      gap: 12px;\n",
              "    }\n",
              "\n",
              "    .colab-df-convert {\n",
              "      background-color: #E8F0FE;\n",
              "      border: none;\n",
              "      border-radius: 50%;\n",
              "      cursor: pointer;\n",
              "      display: none;\n",
              "      fill: #1967D2;\n",
              "      height: 32px;\n",
              "      padding: 0 0 0 0;\n",
              "      width: 32px;\n",
              "    }\n",
              "\n",
              "    .colab-df-convert:hover {\n",
              "      background-color: #E2EBFA;\n",
              "      box-shadow: 0px 1px 2px rgba(60, 64, 67, 0.3), 0px 1px 3px 1px rgba(60, 64, 67, 0.15);\n",
              "      fill: #174EA6;\n",
              "    }\n",
              "\n",
              "    [theme=dark] .colab-df-convert {\n",
              "      background-color: #3B4455;\n",
              "      fill: #D2E3FC;\n",
              "    }\n",
              "\n",
              "    [theme=dark] .colab-df-convert:hover {\n",
              "      background-color: #434B5C;\n",
              "      box-shadow: 0px 1px 3px 1px rgba(0, 0, 0, 0.15);\n",
              "      filter: drop-shadow(0px 1px 2px rgba(0, 0, 0, 0.3));\n",
              "      fill: #FFFFFF;\n",
              "    }\n",
              "  </style>\n",
              "\n",
              "      <script>\n",
              "        const buttonEl =\n",
              "          document.querySelector('#df-f6e2326e-6c53-46e0-8c00-19007a0ea3c5 button.colab-df-convert');\n",
              "        buttonEl.style.display =\n",
              "          google.colab.kernel.accessAllowed ? 'block' : 'none';\n",
              "\n",
              "        async function convertToInteractive(key) {\n",
              "          const element = document.querySelector('#df-f6e2326e-6c53-46e0-8c00-19007a0ea3c5');\n",
              "          const dataTable =\n",
              "            await google.colab.kernel.invokeFunction('convertToInteractive',\n",
              "                                                     [key], {});\n",
              "          if (!dataTable) return;\n",
              "\n",
              "          const docLinkHtml = 'Like what you see? Visit the ' +\n",
              "            '<a target=\"_blank\" href=https://colab.research.google.com/notebooks/data_table.ipynb>data table notebook</a>'\n",
              "            + ' to learn more about interactive tables.';\n",
              "          element.innerHTML = '';\n",
              "          dataTable['output_type'] = 'display_data';\n",
              "          await google.colab.output.renderOutput(dataTable, element);\n",
              "          const docLink = document.createElement('div');\n",
              "          docLink.innerHTML = docLinkHtml;\n",
              "          element.appendChild(docLink);\n",
              "        }\n",
              "      </script>\n",
              "    </div>\n",
              "  </div>\n",
              "  "
            ]
          },
          "metadata": {},
          "execution_count": 7
        }
      ]
    },
    {
      "cell_type": "markdown",
      "source": [
        "## **Cleaning**"
      ],
      "metadata": {
        "id": "BGTPQK2ogXHf"
      }
    },
    {
      "cell_type": "code",
      "source": [
        "def cleanTxt(text):\n",
        "  text = re.sub(r'@[A-Za-z0-9]+','',text)\n",
        "  text = re.sub(r'#','',text)\n",
        "  text = re.sub(r'RT[\\s]+','',text)\n",
        "  text = re.sub(r'https?:\\/\\/S+','',text)\n",
        "  return text"
      ],
      "metadata": {
        "id": "dRqOLrJvgboT"
      },
      "execution_count": null,
      "outputs": []
    },
    {
      "cell_type": "code",
      "source": [
        "df['Tweets'] = df['Tweets'].apply(cleanTxt)"
      ],
      "metadata": {
        "id": "3hrMcYzCOHq9"
      },
      "execution_count": null,
      "outputs": []
    },
    {
      "cell_type": "code",
      "source": [
        "df"
      ],
      "metadata": {
        "colab": {
          "base_uri": "https://localhost:8080/",
          "height": 424
        },
        "id": "ucAChwvWOKqe",
        "outputId": "7bbda745-adf8-4b34-ddfa-fac7e897af13"
      },
      "execution_count": null,
      "outputs": [
        {
          "output_type": "execute_result",
          "data": {
            "text/plain": [
              "                                               Tweets  Subjectivity  Polarity\n",
              "0   : They were essentially fresh out of school, h...      0.520833  0.004167\n",
              "1   : The audit partners at Shah Dhandharia who re...      0.100000  0.000000\n",
              "2   : FROM THE MAGAZINE | ’s extraordinary traject...      0.662500  0.254167\n",
              "3   Yaar tu kya chutiya admi hai bhai, opportunist...      0.000000  0.000000\n",
              "4   : Twitter is censoring links to a BBC document...      0.500000 -0.400000\n",
              "..                                                ...           ...       ...\n",
              "95  No adequate gear, no safety protocols being fo...      0.491667  0.091667\n",
              "96  : \"Is your caste more important than your daug...      0.750000  0.450000\n",
              "97  : \"When a woman thinks that an Indian man migh...      0.983333  0.366667\n",
              "98  _gluten: What a joy to see Brahminism wrapped ...      0.200000  0.800000\n",
              "99                            https://t.co/D4M3H28jWC      0.000000  0.000000\n",
              "\n",
              "[100 rows x 3 columns]"
            ],
            "text/html": [
              "\n",
              "  <div id=\"df-7233dac0-a18a-4be5-b3f2-3db75b0f0b1a\">\n",
              "    <div class=\"colab-df-container\">\n",
              "      <div>\n",
              "<style scoped>\n",
              "    .dataframe tbody tr th:only-of-type {\n",
              "        vertical-align: middle;\n",
              "    }\n",
              "\n",
              "    .dataframe tbody tr th {\n",
              "        vertical-align: top;\n",
              "    }\n",
              "\n",
              "    .dataframe thead th {\n",
              "        text-align: right;\n",
              "    }\n",
              "</style>\n",
              "<table border=\"1\" class=\"dataframe\">\n",
              "  <thead>\n",
              "    <tr style=\"text-align: right;\">\n",
              "      <th></th>\n",
              "      <th>Tweets</th>\n",
              "      <th>Subjectivity</th>\n",
              "      <th>Polarity</th>\n",
              "    </tr>\n",
              "  </thead>\n",
              "  <tbody>\n",
              "    <tr>\n",
              "      <th>0</th>\n",
              "      <td>: They were essentially fresh out of school, h...</td>\n",
              "      <td>0.520833</td>\n",
              "      <td>0.004167</td>\n",
              "    </tr>\n",
              "    <tr>\n",
              "      <th>1</th>\n",
              "      <td>: The audit partners at Shah Dhandharia who re...</td>\n",
              "      <td>0.100000</td>\n",
              "      <td>0.000000</td>\n",
              "    </tr>\n",
              "    <tr>\n",
              "      <th>2</th>\n",
              "      <td>: FROM THE MAGAZINE | ’s extraordinary traject...</td>\n",
              "      <td>0.662500</td>\n",
              "      <td>0.254167</td>\n",
              "    </tr>\n",
              "    <tr>\n",
              "      <th>3</th>\n",
              "      <td>Yaar tu kya chutiya admi hai bhai, opportunist...</td>\n",
              "      <td>0.000000</td>\n",
              "      <td>0.000000</td>\n",
              "    </tr>\n",
              "    <tr>\n",
              "      <th>4</th>\n",
              "      <td>: Twitter is censoring links to a BBC document...</td>\n",
              "      <td>0.500000</td>\n",
              "      <td>-0.400000</td>\n",
              "    </tr>\n",
              "    <tr>\n",
              "      <th>...</th>\n",
              "      <td>...</td>\n",
              "      <td>...</td>\n",
              "      <td>...</td>\n",
              "    </tr>\n",
              "    <tr>\n",
              "      <th>95</th>\n",
              "      <td>No adequate gear, no safety protocols being fo...</td>\n",
              "      <td>0.491667</td>\n",
              "      <td>0.091667</td>\n",
              "    </tr>\n",
              "    <tr>\n",
              "      <th>96</th>\n",
              "      <td>: \"Is your caste more important than your daug...</td>\n",
              "      <td>0.750000</td>\n",
              "      <td>0.450000</td>\n",
              "    </tr>\n",
              "    <tr>\n",
              "      <th>97</th>\n",
              "      <td>: \"When a woman thinks that an Indian man migh...</td>\n",
              "      <td>0.983333</td>\n",
              "      <td>0.366667</td>\n",
              "    </tr>\n",
              "    <tr>\n",
              "      <th>98</th>\n",
              "      <td>_gluten: What a joy to see Brahminism wrapped ...</td>\n",
              "      <td>0.200000</td>\n",
              "      <td>0.800000</td>\n",
              "    </tr>\n",
              "    <tr>\n",
              "      <th>99</th>\n",
              "      <td>https://t.co/D4M3H28jWC</td>\n",
              "      <td>0.000000</td>\n",
              "      <td>0.000000</td>\n",
              "    </tr>\n",
              "  </tbody>\n",
              "</table>\n",
              "<p>100 rows × 3 columns</p>\n",
              "</div>\n",
              "      <button class=\"colab-df-convert\" onclick=\"convertToInteractive('df-7233dac0-a18a-4be5-b3f2-3db75b0f0b1a')\"\n",
              "              title=\"Convert this dataframe to an interactive table.\"\n",
              "              style=\"display:none;\">\n",
              "        \n",
              "  <svg xmlns=\"http://www.w3.org/2000/svg\" height=\"24px\"viewBox=\"0 0 24 24\"\n",
              "       width=\"24px\">\n",
              "    <path d=\"M0 0h24v24H0V0z\" fill=\"none\"/>\n",
              "    <path d=\"M18.56 5.44l.94 2.06.94-2.06 2.06-.94-2.06-.94-.94-2.06-.94 2.06-2.06.94zm-11 1L8.5 8.5l.94-2.06 2.06-.94-2.06-.94L8.5 2.5l-.94 2.06-2.06.94zm10 10l.94 2.06.94-2.06 2.06-.94-2.06-.94-.94-2.06-.94 2.06-2.06.94z\"/><path d=\"M17.41 7.96l-1.37-1.37c-.4-.4-.92-.59-1.43-.59-.52 0-1.04.2-1.43.59L10.3 9.45l-7.72 7.72c-.78.78-.78 2.05 0 2.83L4 21.41c.39.39.9.59 1.41.59.51 0 1.02-.2 1.41-.59l7.78-7.78 2.81-2.81c.8-.78.8-2.07 0-2.86zM5.41 20L4 18.59l7.72-7.72 1.47 1.35L5.41 20z\"/>\n",
              "  </svg>\n",
              "      </button>\n",
              "      \n",
              "  <style>\n",
              "    .colab-df-container {\n",
              "      display:flex;\n",
              "      flex-wrap:wrap;\n",
              "      gap: 12px;\n",
              "    }\n",
              "\n",
              "    .colab-df-convert {\n",
              "      background-color: #E8F0FE;\n",
              "      border: none;\n",
              "      border-radius: 50%;\n",
              "      cursor: pointer;\n",
              "      display: none;\n",
              "      fill: #1967D2;\n",
              "      height: 32px;\n",
              "      padding: 0 0 0 0;\n",
              "      width: 32px;\n",
              "    }\n",
              "\n",
              "    .colab-df-convert:hover {\n",
              "      background-color: #E2EBFA;\n",
              "      box-shadow: 0px 1px 2px rgba(60, 64, 67, 0.3), 0px 1px 3px 1px rgba(60, 64, 67, 0.15);\n",
              "      fill: #174EA6;\n",
              "    }\n",
              "\n",
              "    [theme=dark] .colab-df-convert {\n",
              "      background-color: #3B4455;\n",
              "      fill: #D2E3FC;\n",
              "    }\n",
              "\n",
              "    [theme=dark] .colab-df-convert:hover {\n",
              "      background-color: #434B5C;\n",
              "      box-shadow: 0px 1px 3px 1px rgba(0, 0, 0, 0.15);\n",
              "      filter: drop-shadow(0px 1px 2px rgba(0, 0, 0, 0.3));\n",
              "      fill: #FFFFFF;\n",
              "    }\n",
              "  </style>\n",
              "\n",
              "      <script>\n",
              "        const buttonEl =\n",
              "          document.querySelector('#df-7233dac0-a18a-4be5-b3f2-3db75b0f0b1a button.colab-df-convert');\n",
              "        buttonEl.style.display =\n",
              "          google.colab.kernel.accessAllowed ? 'block' : 'none';\n",
              "\n",
              "        async function convertToInteractive(key) {\n",
              "          const element = document.querySelector('#df-7233dac0-a18a-4be5-b3f2-3db75b0f0b1a');\n",
              "          const dataTable =\n",
              "            await google.colab.kernel.invokeFunction('convertToInteractive',\n",
              "                                                     [key], {});\n",
              "          if (!dataTable) return;\n",
              "\n",
              "          const docLinkHtml = 'Like what you see? Visit the ' +\n",
              "            '<a target=\"_blank\" href=https://colab.research.google.com/notebooks/data_table.ipynb>data table notebook</a>'\n",
              "            + ' to learn more about interactive tables.';\n",
              "          element.innerHTML = '';\n",
              "          dataTable['output_type'] = 'display_data';\n",
              "          await google.colab.output.renderOutput(dataTable, element);\n",
              "          const docLink = document.createElement('div');\n",
              "          docLink.innerHTML = docLinkHtml;\n",
              "          element.appendChild(docLink);\n",
              "        }\n",
              "      </script>\n",
              "    </div>\n",
              "  </div>\n",
              "  "
            ]
          },
          "metadata": {},
          "execution_count": 18
        }
      ]
    },
    {
      "cell_type": "markdown",
      "source": [],
      "metadata": {
        "id": "k9FR3k2Kh9ag"
      }
    },
    {
      "cell_type": "code",
      "source": [
        "def getSubjectivity(text):\n",
        "  return TextBlob(text).sentiment.subjectivity\n",
        "\n",
        "def getPolarity(text):\n",
        "  return TextBlob(text).sentiment.polarity\n",
        "\n",
        "df['Subjectivity'] = df['Tweets'].apply(getSubjectivity)\n",
        "df['Polarity'] = df['Tweets'].apply(getPolarity)\n",
        "\n",
        "df"
      ],
      "metadata": {
        "colab": {
          "base_uri": "https://localhost:8080/",
          "height": 424
        },
        "id": "6_R_P_y7h9sS",
        "outputId": "3e139834-54e0-4f0b-eec0-430fbea141b9"
      },
      "execution_count": null,
      "outputs": [
        {
          "output_type": "execute_result",
          "data": {
            "text/plain": [
              "                                               Tweets  Subjectivity  Polarity\n",
              "0   : They were essentially fresh out of school, h...      0.520833  0.004167\n",
              "1   : The audit partners at Shah Dhandharia who re...      0.100000  0.000000\n",
              "2   : FROM THE MAGAZINE | ’s extraordinary traject...      0.662500  0.254167\n",
              "3   Yaar tu kya chutiya admi hai bhai, opportunist...      0.000000  0.000000\n",
              "4   : Twitter is censoring links to a BBC document...      0.500000 -0.400000\n",
              "..                                                ...           ...       ...\n",
              "95  No adequate gear, no safety protocols being fo...      0.491667  0.091667\n",
              "96  : \"Is your caste more important than your daug...      0.750000  0.450000\n",
              "97  : \"When a woman thinks that an Indian man migh...      0.983333  0.366667\n",
              "98  _gluten: What a joy to see Brahminism wrapped ...      0.200000  0.800000\n",
              "99                            https://t.co/D4M3H28jWC      0.000000  0.000000\n",
              "\n",
              "[100 rows x 3 columns]"
            ],
            "text/html": [
              "\n",
              "  <div id=\"df-4179c8f8-150a-445c-9659-13b6160bd4a1\">\n",
              "    <div class=\"colab-df-container\">\n",
              "      <div>\n",
              "<style scoped>\n",
              "    .dataframe tbody tr th:only-of-type {\n",
              "        vertical-align: middle;\n",
              "    }\n",
              "\n",
              "    .dataframe tbody tr th {\n",
              "        vertical-align: top;\n",
              "    }\n",
              "\n",
              "    .dataframe thead th {\n",
              "        text-align: right;\n",
              "    }\n",
              "</style>\n",
              "<table border=\"1\" class=\"dataframe\">\n",
              "  <thead>\n",
              "    <tr style=\"text-align: right;\">\n",
              "      <th></th>\n",
              "      <th>Tweets</th>\n",
              "      <th>Subjectivity</th>\n",
              "      <th>Polarity</th>\n",
              "    </tr>\n",
              "  </thead>\n",
              "  <tbody>\n",
              "    <tr>\n",
              "      <th>0</th>\n",
              "      <td>: They were essentially fresh out of school, h...</td>\n",
              "      <td>0.520833</td>\n",
              "      <td>0.004167</td>\n",
              "    </tr>\n",
              "    <tr>\n",
              "      <th>1</th>\n",
              "      <td>: The audit partners at Shah Dhandharia who re...</td>\n",
              "      <td>0.100000</td>\n",
              "      <td>0.000000</td>\n",
              "    </tr>\n",
              "    <tr>\n",
              "      <th>2</th>\n",
              "      <td>: FROM THE MAGAZINE | ’s extraordinary traject...</td>\n",
              "      <td>0.662500</td>\n",
              "      <td>0.254167</td>\n",
              "    </tr>\n",
              "    <tr>\n",
              "      <th>3</th>\n",
              "      <td>Yaar tu kya chutiya admi hai bhai, opportunist...</td>\n",
              "      <td>0.000000</td>\n",
              "      <td>0.000000</td>\n",
              "    </tr>\n",
              "    <tr>\n",
              "      <th>4</th>\n",
              "      <td>: Twitter is censoring links to a BBC document...</td>\n",
              "      <td>0.500000</td>\n",
              "      <td>-0.400000</td>\n",
              "    </tr>\n",
              "    <tr>\n",
              "      <th>...</th>\n",
              "      <td>...</td>\n",
              "      <td>...</td>\n",
              "      <td>...</td>\n",
              "    </tr>\n",
              "    <tr>\n",
              "      <th>95</th>\n",
              "      <td>No adequate gear, no safety protocols being fo...</td>\n",
              "      <td>0.491667</td>\n",
              "      <td>0.091667</td>\n",
              "    </tr>\n",
              "    <tr>\n",
              "      <th>96</th>\n",
              "      <td>: \"Is your caste more important than your daug...</td>\n",
              "      <td>0.750000</td>\n",
              "      <td>0.450000</td>\n",
              "    </tr>\n",
              "    <tr>\n",
              "      <th>97</th>\n",
              "      <td>: \"When a woman thinks that an Indian man migh...</td>\n",
              "      <td>0.983333</td>\n",
              "      <td>0.366667</td>\n",
              "    </tr>\n",
              "    <tr>\n",
              "      <th>98</th>\n",
              "      <td>_gluten: What a joy to see Brahminism wrapped ...</td>\n",
              "      <td>0.200000</td>\n",
              "      <td>0.800000</td>\n",
              "    </tr>\n",
              "    <tr>\n",
              "      <th>99</th>\n",
              "      <td>https://t.co/D4M3H28jWC</td>\n",
              "      <td>0.000000</td>\n",
              "      <td>0.000000</td>\n",
              "    </tr>\n",
              "  </tbody>\n",
              "</table>\n",
              "<p>100 rows × 3 columns</p>\n",
              "</div>\n",
              "      <button class=\"colab-df-convert\" onclick=\"convertToInteractive('df-4179c8f8-150a-445c-9659-13b6160bd4a1')\"\n",
              "              title=\"Convert this dataframe to an interactive table.\"\n",
              "              style=\"display:none;\">\n",
              "        \n",
              "  <svg xmlns=\"http://www.w3.org/2000/svg\" height=\"24px\"viewBox=\"0 0 24 24\"\n",
              "       width=\"24px\">\n",
              "    <path d=\"M0 0h24v24H0V0z\" fill=\"none\"/>\n",
              "    <path d=\"M18.56 5.44l.94 2.06.94-2.06 2.06-.94-2.06-.94-.94-2.06-.94 2.06-2.06.94zm-11 1L8.5 8.5l.94-2.06 2.06-.94-2.06-.94L8.5 2.5l-.94 2.06-2.06.94zm10 10l.94 2.06.94-2.06 2.06-.94-2.06-.94-.94-2.06-.94 2.06-2.06.94z\"/><path d=\"M17.41 7.96l-1.37-1.37c-.4-.4-.92-.59-1.43-.59-.52 0-1.04.2-1.43.59L10.3 9.45l-7.72 7.72c-.78.78-.78 2.05 0 2.83L4 21.41c.39.39.9.59 1.41.59.51 0 1.02-.2 1.41-.59l7.78-7.78 2.81-2.81c.8-.78.8-2.07 0-2.86zM5.41 20L4 18.59l7.72-7.72 1.47 1.35L5.41 20z\"/>\n",
              "  </svg>\n",
              "      </button>\n",
              "      \n",
              "  <style>\n",
              "    .colab-df-container {\n",
              "      display:flex;\n",
              "      flex-wrap:wrap;\n",
              "      gap: 12px;\n",
              "    }\n",
              "\n",
              "    .colab-df-convert {\n",
              "      background-color: #E8F0FE;\n",
              "      border: none;\n",
              "      border-radius: 50%;\n",
              "      cursor: pointer;\n",
              "      display: none;\n",
              "      fill: #1967D2;\n",
              "      height: 32px;\n",
              "      padding: 0 0 0 0;\n",
              "      width: 32px;\n",
              "    }\n",
              "\n",
              "    .colab-df-convert:hover {\n",
              "      background-color: #E2EBFA;\n",
              "      box-shadow: 0px 1px 2px rgba(60, 64, 67, 0.3), 0px 1px 3px 1px rgba(60, 64, 67, 0.15);\n",
              "      fill: #174EA6;\n",
              "    }\n",
              "\n",
              "    [theme=dark] .colab-df-convert {\n",
              "      background-color: #3B4455;\n",
              "      fill: #D2E3FC;\n",
              "    }\n",
              "\n",
              "    [theme=dark] .colab-df-convert:hover {\n",
              "      background-color: #434B5C;\n",
              "      box-shadow: 0px 1px 3px 1px rgba(0, 0, 0, 0.15);\n",
              "      filter: drop-shadow(0px 1px 2px rgba(0, 0, 0, 0.3));\n",
              "      fill: #FFFFFF;\n",
              "    }\n",
              "  </style>\n",
              "\n",
              "      <script>\n",
              "        const buttonEl =\n",
              "          document.querySelector('#df-4179c8f8-150a-445c-9659-13b6160bd4a1 button.colab-df-convert');\n",
              "        buttonEl.style.display =\n",
              "          google.colab.kernel.accessAllowed ? 'block' : 'none';\n",
              "\n",
              "        async function convertToInteractive(key) {\n",
              "          const element = document.querySelector('#df-4179c8f8-150a-445c-9659-13b6160bd4a1');\n",
              "          const dataTable =\n",
              "            await google.colab.kernel.invokeFunction('convertToInteractive',\n",
              "                                                     [key], {});\n",
              "          if (!dataTable) return;\n",
              "\n",
              "          const docLinkHtml = 'Like what you see? Visit the ' +\n",
              "            '<a target=\"_blank\" href=https://colab.research.google.com/notebooks/data_table.ipynb>data table notebook</a>'\n",
              "            + ' to learn more about interactive tables.';\n",
              "          element.innerHTML = '';\n",
              "          dataTable['output_type'] = 'display_data';\n",
              "          await google.colab.output.renderOutput(dataTable, element);\n",
              "          const docLink = document.createElement('div');\n",
              "          docLink.innerHTML = docLinkHtml;\n",
              "          element.appendChild(docLink);\n",
              "        }\n",
              "      </script>\n",
              "    </div>\n",
              "  </div>\n",
              "  "
            ]
          },
          "metadata": {},
          "execution_count": 19
        }
      ]
    },
    {
      "cell_type": "markdown",
      "source": [],
      "metadata": {
        "id": "Uh3E1zgrjEyA"
      }
    },
    {
      "cell_type": "code",
      "source": [
        "allWords = ' '.join( [twts for twts in df['Tweets']])\n",
        "wordCloud = WordCloud(width = 500, height = 300, random_state = 21, max_font_size = 119).generate(allWords)\n",
        "\n",
        "plt.imshow(wordCloud, interpolation = \"bilinear\")\n",
        "plt.axis('off')\n",
        "plt.show()"
      ],
      "metadata": {
        "colab": {
          "base_uri": "https://localhost:8080/",
          "height": 256
        },
        "id": "v8A33F7JjFGm",
        "outputId": "47ec125b-3f04-42ad-c922-30fc5f2ed72a"
      },
      "execution_count": null,
      "outputs": [
        {
          "output_type": "display_data",
          "data": {
            "text/plain": [
              "<Figure size 432x288 with 1 Axes>"
            ],
            "image/png": "[encoded data removed]"
          },
          "metadata": {}
        }
      ]
    },
    {
      "cell_type": "code",
      "source": [
        "def getAnalysis(score):\n",
        "  if score < 0:\n",
        "    return 'Negative'\n",
        "  elif score == 0:\n",
        "    return 'Neutral'\n",
        "  else:\n",
        "    return 'Positive'\n",
        "\n",
        "df['Analysis'] = df['Polarity'].apply(getAnalysis)\n",
        "\n",
        "df"
      ],
      "metadata": {
        "colab": {
          "base_uri": "https://localhost:8080/",
          "height": 424
        },
        "id": "gAN9W-5SjxXg",
        "outputId": "75551493-1c0e-4449-a5ab-658abd33fd9e"
      },
      "execution_count": null,
      "outputs": [
        {
          "output_type": "execute_result",
          "data": {
            "text/plain": [
              "                                               Tweets  Subjectivity  Polarity  \\\n",
              "0   : They were essentially fresh out of school, h...      0.520833  0.004167   \n",
              "1   : The audit partners at Shah Dhandharia who re...      0.100000  0.000000   \n",
              "2   : FROM THE MAGAZINE | ’s extraordinary traject...      0.662500  0.254167   \n",
              "3   Yaar tu kya chutiya admi hai bhai, opportunist...      0.000000  0.000000   \n",
              "4   : Twitter is censoring links to a BBC document...      0.500000 -0.400000   \n",
              "..                                                ...           ...       ...   \n",
              "95  No adequate gear, no safety protocols being fo...      0.491667  0.091667   \n",
              "96  : \"Is your caste more important than your daug...      0.750000  0.450000   \n",
              "97  : \"When a woman thinks that an Indian man migh...      0.983333  0.366667   \n",
              "98  _gluten: What a joy to see Brahminism wrapped ...      0.200000  0.800000   \n",
              "99                            https://t.co/D4M3H28jWC      0.000000  0.000000   \n",
              "\n",
              "    Analysis  \n",
              "0   Positive  \n",
              "1    Neutral  \n",
              "2   Positive  \n",
              "3    Neutral  \n",
              "4   Negative  \n",
              "..       ...  \n",
              "95  Positive  \n",
              "96  Positive  \n",
              "97  Positive  \n",
              "98  Positive  \n",
              "99   Neutral  \n",
              "\n",
              "[100 rows x 4 columns]"
            ],
            "text/html": [
              "\n",
              "  <div id=\"df-1a4c230a-a620-46ec-8814-ebafbed48afc\">\n",
              "    <div class=\"colab-df-container\">\n",
              "      <div>\n",
              "<style scoped>\n",
              "    .dataframe tbody tr th:only-of-type {\n",
              "        vertical-align: middle;\n",
              "    }\n",
              "\n",
              "    .dataframe tbody tr th {\n",
              "        vertical-align: top;\n",
              "    }\n",
              "\n",
              "    .dataframe thead th {\n",
              "        text-align: right;\n",
              "    }\n",
              "</style>\n",
              "<table border=\"1\" class=\"dataframe\">\n",
              "  <thead>\n",
              "    <tr style=\"text-align: right;\">\n",
              "      <th></th>\n",
              "      <th>Tweets</th>\n",
              "      <th>Subjectivity</th>\n",
              "      <th>Polarity</th>\n",
              "      <th>Analysis</th>\n",
              "    </tr>\n",
              "  </thead>\n",
              "  <tbody>\n",
              "    <tr>\n",
              "      <th>0</th>\n",
              "      <td>: They were essentially fresh out of school, h...</td>\n",
              "      <td>0.520833</td>\n",
              "      <td>0.004167</td>\n",
              "      <td>Positive</td>\n",
              "    </tr>\n",
              "    <tr>\n",
              "      <th>1</th>\n",
              "      <td>: The audit partners at Shah Dhandharia who re...</td>\n",
              "      <td>0.100000</td>\n",
              "      <td>0.000000</td>\n",
              "      <td>Neutral</td>\n",
              "    </tr>\n",
              "    <tr>\n",
              "      <th>2</th>\n",
              "      <td>: FROM THE MAGAZINE | ’s extraordinary traject...</td>\n",
              "      <td>0.662500</td>\n",
              "      <td>0.254167</td>\n",
              "      <td>Positive</td>\n",
              "    </tr>\n",
              "    <tr>\n",
              "      <th>3</th>\n",
              "      <td>Yaar tu kya chutiya admi hai bhai, opportunist...</td>\n",
              "      <td>0.000000</td>\n",
              "      <td>0.000000</td>\n",
              "      <td>Neutral</td>\n",
              "    </tr>\n",
              "    <tr>\n",
              "      <th>4</th>\n",
              "      <td>: Twitter is censoring links to a BBC document...</td>\n",
              "      <td>0.500000</td>\n",
              "      <td>-0.400000</td>\n",
              "      <td>Negative</td>\n",
              "    </tr>\n",
              "    <tr>\n",
              "      <th>...</th>\n",
              "      <td>...</td>\n",
              "      <td>...</td>\n",
              "      <td>...</td>\n",
              "      <td>...</td>\n",
              "    </tr>\n",
              "    <tr>\n",
              "      <th>95</th>\n",
              "      <td>No adequate gear, no safety protocols being fo...</td>\n",
              "      <td>0.491667</td>\n",
              "      <td>0.091667</td>\n",
              "      <td>Positive</td>\n",
              "    </tr>\n",
              "    <tr>\n",
              "      <th>96</th>\n",
              "      <td>: \"Is your caste more important than your daug...</td>\n",
              "      <td>0.750000</td>\n",
              "      <td>0.450000</td>\n",
              "      <td>Positive</td>\n",
              "    </tr>\n",
              "    <tr>\n",
              "      <th>97</th>\n",
              "      <td>: \"When a woman thinks that an Indian man migh...</td>\n",
              "      <td>0.983333</td>\n",
              "      <td>0.366667</td>\n",
              "      <td>Positive</td>\n",
              "    </tr>\n",
              "    <tr>\n",
              "      <th>98</th>\n",
              "      <td>_gluten: What a joy to see Brahminism wrapped ...</td>\n",
              "      <td>0.200000</td>\n",
              "      <td>0.800000</td>\n",
              "      <td>Positive</td>\n",
              "    </tr>\n",
              "    <tr>\n",
              "      <th>99</th>\n",
              "      <td>https://t.co/D4M3H28jWC</td>\n",
              "      <td>0.000000</td>\n",
              "      <td>0.000000</td>\n",
              "      <td>Neutral</td>\n",
              "    </tr>\n",
              "  </tbody>\n",
              "</table>\n",
              "<p>100 rows × 4 columns</p>\n",
              "</div>\n",
              "      <button class=\"colab-df-convert\" onclick=\"convertToInteractive('df-1a4c230a-a620-46ec-8814-ebafbed48afc')\"\n",
              "              title=\"Convert this dataframe to an interactive table.\"\n",
              "              style=\"display:none;\">\n",
              "        \n",
              "  <svg xmlns=\"http://www.w3.org/2000/svg\" height=\"24px\"viewBox=\"0 0 24 24\"\n",
              "       width=\"24px\">\n",
              "    <path d=\"M0 0h24v24H0V0z\" fill=\"none\"/>\n",
              "    <path d=\"M18.56 5.44l.94 2.06.94-2.06 2.06-.94-2.06-.94-.94-2.06-.94 2.06-2.06.94zm-11 1L8.5 8.5l.94-2.06 2.06-.94-2.06-.94L8.5 2.5l-.94 2.06-2.06.94zm10 10l.94 2.06.94-2.06 2.06-.94-2.06-.94-.94-2.06-.94 2.06-2.06.94z\"/><path d=\"M17.41 7.96l-1.37-1.37c-.4-.4-.92-.59-1.43-.59-.52 0-1.04.2-1.43.59L10.3 9.45l-7.72 7.72c-.78.78-.78 2.05 0 2.83L4 21.41c.39.39.9.59 1.41.59.51 0 1.02-.2 1.41-.59l7.78-7.78 2.81-2.81c.8-.78.8-2.07 0-2.86zM5.41 20L4 18.59l7.72-7.72 1.47 1.35L5.41 20z\"/>\n",
              "  </svg>\n",
              "      </button>\n",
              "      \n",
              "  <style>\n",
              "    .colab-df-container {\n",
              "      display:flex;\n",
              "      flex-wrap:wrap;\n",
              "      gap: 12px;\n",
              "    }\n",
              "\n",
              "    .colab-df-convert {\n",
              "      background-color: #E8F0FE;\n",
              "      border: none;\n",
              "      border-radius: 50%;\n",
              "      cursor: pointer;\n",
              "      display: none;\n",
              "      fill: #1967D2;\n",
              "      height: 32px;\n",
              "      padding: 0 0 0 0;\n",
              "      width: 32px;\n",
              "    }\n",
              "\n",
              "    .colab-df-convert:hover {\n",
              "      background-color: #E2EBFA;\n",
              "      box-shadow: 0px 1px 2px rgba(60, 64, 67, 0.3), 0px 1px 3px 1px rgba(60, 64, 67, 0.15);\n",
              "      fill: #174EA6;\n",
              "    }\n",
              "\n",
              "    [theme=dark] .colab-df-convert {\n",
              "      background-color: #3B4455;\n",
              "      fill: #D2E3FC;\n",
              "    }\n",
              "\n",
              "    [theme=dark] .colab-df-convert:hover {\n",
              "      background-color: #434B5C;\n",
              "      box-shadow: 0px 1px 3px 1px rgba(0, 0, 0, 0.15);\n",
              "      filter: drop-shadow(0px 1px 2px rgba(0, 0, 0, 0.3));\n",
              "      fill: #FFFFFF;\n",
              "    }\n",
              "  </style>\n",
              "\n",
              "      <script>\n",
              "        const buttonEl =\n",
              "          document.querySelector('#df-1a4c230a-a620-46ec-8814-ebafbed48afc button.colab-df-convert');\n",
              "        buttonEl.style.display =\n",
              "          google.colab.kernel.accessAllowed ? 'block' : 'none';\n",
              "\n",
              "        async function convertToInteractive(key) {\n",
              "          const element = document.querySelector('#df-1a4c230a-a620-46ec-8814-ebafbed48afc');\n",
              "          const dataTable =\n",
              "            await google.colab.kernel.invokeFunction('convertToInteractive',\n",
              "                                                     [key], {});\n",
              "          if (!dataTable) return;\n",
              "\n",
              "          const docLinkHtml = 'Like what you see? Visit the ' +\n",
              "            '<a target=\"_blank\" href=https://colab.research.google.com/notebooks/data_table.ipynb>data table notebook</a>'\n",
              "            + ' to learn more about interactive tables.';\n",
              "          element.innerHTML = '';\n",
              "          dataTable['output_type'] = 'display_data';\n",
              "          await google.colab.output.renderOutput(dataTable, element);\n",
              "          const docLink = document.createElement('div');\n",
              "          docLink.innerHTML = docLinkHtml;\n",
              "          element.appendChild(docLink);\n",
              "        }\n",
              "      </script>\n",
              "    </div>\n",
              "  </div>\n",
              "  "
            ]
          },
          "metadata": {},
          "execution_count": 21
        }
      ]
    },
    {
      "cell_type": "markdown",
      "source": [],
      "metadata": {
        "id": "TdMwqdfNl-jY"
      }
    },
    {
      "cell_type": "code",
      "source": [
        "j = 1\n",
        "sortedDF = df.sort_values(by = ['Polarity'])\n",
        "for i in range(0, sortedDF.shape[0]):\n",
        "  if(sortedDF['Analysis'][i] == 'Positive'):\n",
        "    print(str(j) + ')' + sortedDF['Tweets'][i])\n",
        "    print()\n",
        "    j = j + 1"
      ],
      "metadata": {
        "colab": {
          "base_uri": "https://localhost:8080/"
        },
        "id": "zCVD96Xml-vr",
        "outputId": "c559f2b5-5fd0-412c-c1be-d4f5ca5a6498"
      },
      "execution_count": null,
      "outputs": [
        {
          "output_type": "stream",
          "name": "stdout",
          "text": [
            "1): They were essentially fresh out of school, hardly in a position to scrutinize and hold to account the financials of some…\n",
            "\n",
            "2): FROM THE MAGAZINE | ’s extraordinary trajectory is worthy of a full length film, starting with his life in a s…\n",
            "\n",
            "3):  \n",
            "Various excerpts from FinalSolution + the entire film available on this channel, with the mandatory CBFC ce…\n",
            "\n",
            "4): NEW FROM US: \n",
            "\n",
            "Adani Group – How The World’s 3rd Richest Man Is Pulling The Largest Con In Corporate History\n",
            "\n",
            "https://t.…\n",
            "\n",
            "5): Soon we will release a report on what we strongly suspect to be the largest corporate fraud in history.\n",
            "\n",
            "6)The bbc documentary has unveiled the cloak of ignorance for the lover’s of gujarat model which exclusively relies on “Us v/s Them”. Brilliant\n",
            "\n",
            "7): More Modi censorship: \"India has blocked the airing of a BBC documentary which questioned Prime Minister Narendra Modi's leade…\n",
            "\n",
            "8)Wonder, how does one dust off thoughts that take so much of headspace 😩\n",
            "\n",
            "9): The protest of the women wrestlers in pathbreaking and a major step in making sure that movements like Metoo go beyond e…\n",
            "\n",
            "10): \"What is the point of private jets, luxury hotels, and clinking champagne glasses if they lead to nothing more than handw…\n",
            "\n",
            "11)_aanand: SupremeCourt collegium stands firm on its decision to appoint senior advocate Saurabh Kirpal, an openly gay person, as…\n",
            "\n",
            "12): “India's poorest half pays two-thirds of GST, while top richest pay only 3-4%.”\n",
            "\n",
            "The next time when some privileged brat tal…\n",
            "\n",
            "13)_in: Commentary, 2022 | Missing children in India is among the most serious issues in child protection. A large number of children g…\n",
            "\n",
            "14): 📢 New report alert!\n",
            "\n",
            ". 's latest report, 'Survival of the Richest: The India story' deep dives into staggering i…\n",
            "\n",
            "15)_hindu: The richest 1% in India now own more than 40% of the country's total wealth, while the bottom half of the population togethe…\n",
            "\n",
            "16)__Patel: Joshimath: ISRO pulls down report, Govt tells top expert bodies not to speak to the media | India News,The Indian Express…\n",
            "\n",
            "17)_hotspotasia: After numerous instances of communal clashes between Hindus and Muslims in 2022, new research suggests that such violen…\n",
            "\n",
            "18): Some hard truths about Shark Tank India! How credible are the Sharks? https://t.co/5zEUgtW5DB\n",
            "\n",
            "19): Musheer Khan opened with Prithvi Shaw against Assam. His brother Sarfaraz also figures in the XI. Many years ago Mushee…\n",
            "\n",
            "20)_: *first day of an Indian spy in Pakistan*\n",
            "\n",
            "The spy, wearing kajal , a skull cap, checkered scarf in his neck, says “adaab…\n",
            "\n",
            "21)_pali: This quote by one of the Adivasi PhD students I interviewed tells a lot--\n",
            "\n",
            "“The day I would be able to say my full name wit…\n",
            "\n",
            "22)_pali: Beyond the PhD the representation falls off a cliff.\n",
            "\n",
            "At higher-tier IITs and the IISc, 98% of professors and more than 90%…\n",
            "\n",
            "23)__Patel: going to press this week. out march. has 2 new essays and new intro on india after 2014 https://t.co/FuDcTnOPkQ\n",
            "\n",
            "24): Ten months into the Ukraine war, where do great power relations stand? I write in today's The Hindu: \n",
            " https://t.co/ZfUMdnf…\n",
            "\n",
            "25): It's been 10 years. A decade of new generation inspired and actively working on open knowledge.  https://t.co/FCPtgPTBwH\n",
            "\n",
            "26): ‘Our homes are not illegal’: After sleepless nights, Haldwani residents welcome Supreme Court stay https://t.co/SOJKTv…\n",
            "\n",
            "27)Manto in \"Main Afsana kyon kar likhta hoon\" https://t.co/aa4AKpKsTn\n",
            "\n",
            "28)No adequate gear, no safety protocols being followed, can die anytime but no wait a moment, romanticising poverty is cool 🤡 https://t.co/bOJ5Q4Hlka\n",
            "\n",
            "29): \"Is your caste more important than your daughter? Katherine once asked a father imprisoned for conspiring to murder his daught…\n",
            "\n",
            "30): \"When a woman thinks that an Indian man might change her life forever, she’s not having a pleasant thought. She’s likely worry…\n",
            "\n",
            "31)_gluten: What a joy to see Brahminism wrapped in pride colours\n",
            "\n"
          ]
        }
      ]
    },
    {
      "cell_type": "code",
      "source": [
        "j = 1\n",
        "sortedDF = df.sort_values(by = ['Polarity'], ascending = 'False')\n",
        "for i in range(0, sortedDF.shape[0]):\n",
        "  if(sortedDF['Analysis'][i] == 'Negative'):\n",
        "    print(str(j) + ')' + sortedDF['Tweets'][i])\n",
        "    print()\n",
        "    j = j + 1"
      ],
      "metadata": {
        "colab": {
          "base_uri": "https://localhost:8080/"
        },
        "id": "CRzfD3ZBmqLT",
        "outputId": "902bbdbd-21b0-40b1-8f37-4e879cca3bb1"
      },
      "execution_count": null,
      "outputs": [
        {
          "output_type": "stream",
          "name": "stdout",
          "text": [
            "1): Twitter is censoring links to a BBC documentary that examined Prime Minister Modi's role in violent 2002 riots that saw ov…\n",
            "\n",
            "2): The Adani Group has previously been the focus of 4 major government fraud investigations which have alleged money launde…\n",
            "\n",
            "3)_in: According to Human Rights Watch, cited in the film, over three and a half years between May 2015 and December 2018, cow vig…\n",
            "\n",
            "4)__Patel: this is the firm that undid nikola  https://t.co/GwuX9qecQh\n",
            "\n",
            "5): A BBC documentary shows \"raw and chilling footage\" of how in 2002 under Modi, then chief minister of Gujarat, \"the police stoo…\n",
            "\n",
            "6): The BBCDocumentary flies in the face of Modi's 20-year-long, and let's face it, very expensive whitewashing exercise. Aut…\n",
            "\n",
            "7): Don't have the energy to rage at this but it is common scholarly knowledge that the Mahabharata did grow out of Brahmanicia…\n",
            "\n",
            "8): United Kingdom conducted an inquiry into the 2002 Gujarat riots when Jack Straw was the Foreign Secretary. BBC makes startli…\n",
            "\n",
            "9)__Patel: “Around 0.28 million women aged 20-29 entered the labour force in this period” https://t.co/fbMft8V5ab\n",
            "\n",
            "10)_writes: ‘We have no one’: The women and girls sold as brides in Kashmir. \n",
            "\n",
            "For as little as $35, Indian women and girls are being…\n",
            "\n",
            "11)_7: MadhyaPradesh Man forced to carry his ailing wife 65 year old Manvati kol on cart to hospital allegedly due to unavailab…\n",
            "\n",
            "12): A Kashmir family waits in dread for news of son ‘missing’ from Army custody https://t.co/sOw8e77bJ5 via _in\n",
            "\n"
          ]
        }
      ]
    },
    {
      "cell_type": "markdown",
      "source": [],
      "metadata": {
        "id": "gJjc1LE9m2si"
      }
    },
    {
      "cell_type": "code",
      "source": [
        "plt.figure(figsize = (8,6))\n",
        "for i in range(0, df.shape[0]):\n",
        "  plt.scatter(df['Polarity'][i], df['Subjectivity'][i], color = 'Blue')\n",
        "\n",
        "plt.title('Analysis')\n",
        "plt.xlabel('Polarity')\n",
        "plt.ylabel('Subjectivity')\n",
        "plt.show()"
      ],
      "metadata": {
        "colab": {
          "base_uri": "https://localhost:8080/",
          "height": 441
        },
        "id": "2L4N08eOm27H",
        "outputId": "9701c15b-e2ae-4a60-c14a-eeed733df463"
      },
      "execution_count": null,
      "outputs": [
        {
          "output_type": "display_data",
          "data": {
            "text/plain": [
              "<Figure size 576x432 with 1 Axes>"
            ],
            "image/png": "[encoded data removed]"
          },
          "metadata": {}
        }
      ]
    },
    {
      "cell_type": "markdown",
      "source": [],
      "metadata": {
        "id": "CTYSaI3Rna6o"
      }
    },
    {
      "cell_type": "code",
      "source": [
        "ptweets = df[df.Analysis == 'Positive']\n",
        "ptweets = ptweets['Tweets']\n",
        "\n",
        "round((ptweets.shape[0] / df.shape[0])*100 , 1)"
      ],
      "metadata": {
        "colab": {
          "base_uri": "https://localhost:8080/"
        },
        "id": "aKymagnQnbAU",
        "outputId": "6d607248-19cf-493f-e8f1-994fe5a18d21"
      },
      "execution_count": null,
      "outputs": [
        {
          "output_type": "execute_result",
          "data": {
            "text/plain": [
              "31.0"
            ]
          },
          "metadata": {},
          "execution_count": 25
        }
      ]
    },
    {
      "cell_type": "code",
      "source": [
        "ptweets = df[df.Analysis == 'Negative']\n",
        "ptweets = ptweets['Tweets']\n",
        "\n",
        "round((ptweets.shape[0] / df.shape[0])*100 , 1)"
      ],
      "metadata": {
        "colab": {
          "base_uri": "https://localhost:8080/"
        },
        "id": "Fi0ploLOnr5b",
        "outputId": "ff1b10c9-1c61-4fdd-aee5-0dc7dbdc942b"
      },
      "execution_count": null,
      "outputs": [
        {
          "output_type": "execute_result",
          "data": {
            "text/plain": [
              "12.0"
            ]
          },
          "metadata": {},
          "execution_count": 26
        }
      ]
    },
    {
      "cell_type": "code",
      "source": [
        "ptweets = df[df.Analysis == 'Neutral']\n",
        "ptweets = ptweets['Tweets']\n",
        "\n",
        "round((ptweets.shape[0] / df.shape[0])*100 , 1)"
      ],
      "metadata": {
        "colab": {
          "base_uri": "https://localhost:8080/"
        },
        "id": "LxkmA6oNnvbs",
        "outputId": "bee97ae6-5fdd-43f4-e899-46d7e9dee18d"
      },
      "execution_count": null,
      "outputs": [
        {
          "output_type": "execute_result",
          "data": {
            "text/plain": [
              "57.0"
            ]
          },
          "metadata": {},
          "execution_count": 27
        }
      ]
    },
    {
      "cell_type": "markdown",
      "source": [],
      "metadata": {
        "id": "aeRkOQVRn41i"
      }
    },
    {
      "cell_type": "code",
      "source": [
        "df['Analysis'].value_counts()\n",
        "\n",
        "plt.title('Sentiment Analysis')\n",
        "plt.xlabel('Sentiment')\n",
        "plt.ylabel('Counts')\n",
        "df['Analysis'].value_counts().plot(kind='bar')\n"
      ],
      "metadata": {
        "colab": {
          "base_uri": "https://localhost:8080/",
          "height": 391
        },
        "id": "MH5FhNR0n5Yl",
        "outputId": "3e330590-1480-46ab-a3b6-f484bfd2ffb5"
      },
      "execution_count": null,
      "outputs": [
        {
          "output_type": "execute_result",
          "data": {
            "text/plain": [
              "<matplotlib.axes._subplots.AxesSubplot at 0x7fd09685a1f0>"
            ]
          },
          "metadata": {},
          "execution_count": 28
        },
        {
          "output_type": "display_data",
          "data": {
            "text/plain": [
              "<Figure size 432x288 with 1 Axes>"
            ],
            "image/png": "[encoded data removed]"
          },
          "metadata": {}
        }
      ]
    }
  ]
}